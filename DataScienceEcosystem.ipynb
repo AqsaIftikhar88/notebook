{
  "metadata": {
    "language_info": {
      "codemirror_mode": {
        "name": "python",
        "version": 3
      },
      "file_extension": ".py",
      "mimetype": "text/x-python",
      "name": "python",
      "nbconvert_exporter": "python",
      "pygments_lexer": "ipython3",
      "version": "3.8"
    },
    "kernelspec": {
      "name": "python",
      "display_name": "Python (Pyodide)",
      "language": "python"
    }
  },
  "nbformat_minor": 4,
  "nbformat": 4,
  "cells": [
    {
      "cell_type": "markdown",
      "source": "# Data Science Tools and Ecosystem",
      "metadata": {}
    },
    {
      "cell_type": "markdown",
      "source": "In this notebook, Data Science Tools and Ecosystem are summarized.",
      "metadata": {}
    },
    {
      "cell_type": "markdown",
      "source": "Some of the popular languages that Data Scientists use are:\n1. Python.\n2. SQL.\n3. R.\n4. Java.\n5. Scala.",
      "metadata": {}
    },
    {
      "cell_type": "markdown",
      "source": "Some of the commonly used libraries used by Data Scientists include:\n1. NumPy.\n2. Keras.\n3. Pandas.\n4. PyTorch.\n5. SciPy.\n6. Scikit-Learn.",
      "metadata": {}
    },
    {
      "cell_type": "markdown",
      "source": "| Data Science Tools     | \n| ---------------------- |\n| RapidMiner             | \n| Apache Spark           |",
      "metadata": {}
    },
    {
      "cell_type": "markdown",
      "source": "### Below are a few examples of evaluating arithmetic expressions in Python",
      "metadata": {}
    },
    {
      "cell_type": "code",
      "source": "# This a simple arithmetic expression to mutiply then add integers \n(3 * 4) + 5\n",
      "metadata": {
        "trusted": true
      },
      "execution_count": 2,
      "outputs": [
        {
          "execution_count": 2,
          "output_type": "execute_result",
          "data": {
            "text/plain": "17"
          },
          "metadata": {}
        }
      ]
    },
    {
      "cell_type": "code",
      "source": "# This will convert 200 minutes to hours by diving by 60\nhours = 200/60\nprint(\"The hours in 200 mintues are:\", hours)",
      "metadata": {
        "trusted": true
      },
      "execution_count": 5,
      "outputs": [
        {
          "name": "stdout",
          "text": "The hours in 200 mintues are: 3.3333333333333335\n",
          "output_type": "stream"
        }
      ]
    },
    {
      "cell_type": "markdown",
      "source": "**Objectives:**\n- Understand basic arithmetic operations in programming.\n- Learn how to create and execute code cells in a programming environment.\n- Explore common syntax errors and how to fix them.\n- Gain familiarity with commenting in code for better readability.\n- Use Markdown cells to add documentation and structure to a notebook.",
      "metadata": {}
    },
    {
      "cell_type": "markdown",
      "source": "## Author \nAqsa iftikhar",
      "metadata": {}
    },
    {
      "cell_type": "code",
      "source": "",
      "metadata": {},
      "execution_count": null,
      "outputs": []
    }
  ]
}